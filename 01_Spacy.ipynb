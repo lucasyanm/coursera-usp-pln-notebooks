{
  "cells": [
    {
      "cell_type": "markdown",
      "metadata": {
        "id": "view-in-github",
        "colab_type": "text"
      },
      "source": [
        "<a href=\"https://colab.research.google.com/github/lucasyanm/coursera-usp-pln-notebooks/blob/main/01_Spacy.ipynb\" target=\"_parent\"><img src=\"https://colab.research.google.com/assets/colab-badge.svg\" alt=\"Open In Colab\"/></a>"
      ]
    },
    {
      "cell_type": "markdown",
      "metadata": {
        "id": "x_ELGedbTEvV"
      },
      "source": [
        "<img src=\"https://raw.githubusercontent.com/alan-barzilay/NLPortugues/master/imagens/logo_nlportugues.png\"   width=\"150\" align=\"right\">\n",
        "\n",
        "\n",
        "\n",
        "# Lista 1 - spaCy\n",
        "\n",
        "\n",
        "\n"
      ]
    },
    {
      "cell_type": "markdown",
      "metadata": {
        "id": "Q8y9-tiGa321"
      },
      "source": [
        "\n",
        "\n",
        "---\n",
        "\n"
      ]
    },
    {
      "cell_type": "markdown",
      "metadata": {
        "id": "387KBr8bTEvY"
      },
      "source": [
        "O [spaCy](\"https://spacy.io\") é uma bilbioteca Python de código fonte [aberto](\"https://github.com/explosion/spaCy\") para Processamento de \n",
        "Linguagem Natural, constantemente atualizada e mantida. Essa biblioteca é capaz de \n",
        "processar diversas línguas, inclusive o português.\n",
        "\n",
        "### Instalação\n",
        "\n"
      ]
    },
    {
      "cell_type": "code",
      "execution_count": null,
      "metadata": {
        "id": "8z9R44NUThZb"
      },
      "outputs": [],
      "source": [
        "%pip install spacy -U"
      ]
    },
    {
      "cell_type": "markdown",
      "metadata": {
        "id": "rnieqpc7TEva"
      },
      "source": [
        "Após instalar o pacote spaCy devemos baixar as ferramentas específicas para o português  com o seguinte comando:"
      ]
    },
    {
      "cell_type": "code",
      "execution_count": null,
      "metadata": {
        "id": "U2xrX5-cqK6b"
      },
      "outputs": [],
      "source": [
        "!python -m spacy download pt_core_news_sm"
      ]
    },
    {
      "cell_type": "markdown",
      "metadata": {
        "id": "Iv8ivfCnTEvd"
      },
      "source": [
        "Uma vez que temos o pacote instalado e os módulos para português baixado,  podemos começar a utilizar  o spaCy, importando o pacote e carregando o módulo para português.\n",
        "\n",
        "**Nota:** Caso seus resultados sejam diferentes dos descritos neste texto isso provavelmente significa que você está utilizando uma versão diferente do spaCy, como essa ferramenta é atualizada com frequência não é incomum encontrar discrepâncias nos resultados."
      ]
    },
    {
      "cell_type": "code",
      "execution_count": null,
      "metadata": {
        "id": "7pr5NflhTEve",
        "outputId": "7069eae4-a6b7-4377-8b4a-2ef791e50af6",
        "colab": {
          "base_uri": "https://localhost:8080/"
        }
      },
      "outputs": [
        {
          "output_type": "stream",
          "name": "stderr",
          "text": [
            "/usr/local/lib/python3.9/dist-packages/torch/cuda/__init__.py:497: UserWarning: Can't initialize NVML\n",
            "  warnings.warn(\"Can't initialize NVML\")\n"
          ]
        }
      ],
      "source": [
        "import spacy\n",
        "import pt_core_news_sm\n",
        "spacyPT = pt_core_news_sm.load()"
      ]
    },
    {
      "cell_type": "code",
      "execution_count": null,
      "metadata": {
        "colab": {
          "base_uri": "https://localhost:8080/",
          "height": 35
        },
        "id": "WUa8_JVmTEvf",
        "outputId": "91cf9648-27b0-4a0b-d482-bd983cd10e9a"
      },
      "outputs": [
        {
          "output_type": "execute_result",
          "data": {
            "text/plain": [
              "'3.5.1'"
            ],
            "application/vnd.google.colaboratory.intrinsic+json": {
              "type": "string"
            }
          },
          "metadata": {},
          "execution_count": 4
        }
      ],
      "source": [
        "spacy.__version__"
      ]
    },
    {
      "cell_type": "markdown",
      "metadata": {
        "id": "XCgdvPK1TEvg"
      },
      "source": [
        "É importante notar que o spaCy assume que os caracteres estão codificados no formato utf-8.  O primeiro passo portanto é gerar uma entrada nesse formato e submetê-la ao módulo carregado."
      ]
    },
    {
      "cell_type": "code",
      "execution_count": null,
      "metadata": {
        "colab": {
          "base_uri": "https://localhost:8080/"
        },
        "id": "_o7Q9inqTEvh",
        "outputId": "564fd23e-b5a3-4117-ec0a-78932dd9e3d6"
      },
      "outputs": [
        {
          "output_type": "execute_result",
          "data": {
            "text/plain": [
              "Mais vale um asno que me carregue que um cavalo que me derrube."
            ]
          },
          "metadata": {},
          "execution_count": 5
        }
      ],
      "source": [
        "entrada = spacyPT(\"Mais vale um asno que me carregue que um cavalo que me derrube.\")\n",
        "entrada"
      ]
    },
    {
      "cell_type": "markdown",
      "metadata": {
        "id": "BhoKGbccTEvi"
      },
      "source": [
        "### Tokenização (itemização)\n",
        "\n",
        "A entrada que acabamos de gerar é uma sequência iterável de tokens (itens,  \n",
        "ou instâncias de palavras). Se quisermos verificar qual o texto contido nessa \n",
        "sequência iterável,  usamos:"
      ]
    },
    {
      "cell_type": "code",
      "execution_count": null,
      "metadata": {
        "colab": {
          "base_uri": "https://localhost:8080/",
          "height": 35
        },
        "id": "HZFtnbHUTEvj",
        "outputId": "f5073ccb-8a86-458e-da1f-98b19709b56d"
      },
      "outputs": [
        {
          "output_type": "execute_result",
          "data": {
            "text/plain": [
              "'Mais vale um asno que me carregue que um cavalo que me derrube.'"
            ],
            "application/vnd.google.colaboratory.intrinsic+json": {
              "type": "string"
            }
          },
          "metadata": {},
          "execution_count": 6
        }
      ],
      "source": [
        "entrada.text"
      ]
    },
    {
      "cell_type": "markdown",
      "metadata": {
        "id": "V5_1tofrTEvk"
      },
      "source": [
        "Se quisermos dividir a entrada em token,  podemos utilizar o método __split__: "
      ]
    },
    {
      "cell_type": "code",
      "execution_count": null,
      "metadata": {
        "colab": {
          "base_uri": "https://localhost:8080/"
        },
        "id": "nG2rMfWYTEvm",
        "outputId": "2e5e58a5-5880-40d4-cd96-901f7f6748b1"
      },
      "outputs": [
        {
          "output_type": "execute_result",
          "data": {
            "text/plain": [
              "['Mais',\n",
              " 'vale',\n",
              " 'um',\n",
              " 'asno',\n",
              " 'que',\n",
              " 'me',\n",
              " 'carregue',\n",
              " 'que',\n",
              " 'um',\n",
              " 'cavalo',\n",
              " 'que',\n",
              " 'me',\n",
              " 'derrube.']"
            ]
          },
          "metadata": {},
          "execution_count": 7
        }
      ],
      "source": [
        "entrada.text.split()"
      ]
    },
    {
      "cell_type": "markdown",
      "metadata": {
        "id": "oSpMSZrzTEvm"
      },
      "source": [
        "Note que o ponto  final foi absorvido pela palavra;  o mesmo teria acontecido com \n",
        "outros sinais de pontuação a utilizar  o método __split__. Para separar a pontuação \n",
        "das palavras utilizamos a  tokenização implícita realizada pelo comando __in__:"
      ]
    },
    {
      "cell_type": "code",
      "execution_count": null,
      "metadata": {
        "colab": {
          "base_uri": "https://localhost:8080/"
        },
        "id": "CyjtxYEMTEvm",
        "outputId": "c6a4d623-2134-4fca-d675-825cac6d8768"
      },
      "outputs": [
        {
          "output_type": "execute_result",
          "data": {
            "text/plain": [
              "[Mais, vale, um, asno, que, me, carregue, que, um, cavalo, que, me, derrube, .]"
            ]
          },
          "metadata": {},
          "execution_count": 8
        }
      ],
      "source": [
        "[token for token in entrada]"
      ]
    },
    {
      "cell_type": "markdown",
      "metadata": {
        "id": "U9Fy34xoTEvn"
      },
      "source": [
        "Note que os streams não estão entre aspas,  pois na realidade esta lista contém uma sequência de objetos da classe __Token__. \n",
        "\n",
        "Se o objetivo é obter uma lista de Strings,  podemos proceder da seguinte maneira.\n"
      ]
    },
    {
      "cell_type": "code",
      "execution_count": null,
      "metadata": {
        "colab": {
          "base_uri": "https://localhost:8080/"
        },
        "id": "I5I-X9vJTEvn",
        "outputId": "c4edb174-a90d-414b-a33b-d231dad55a63"
      },
      "outputs": [
        {
          "output_type": "execute_result",
          "data": {
            "text/plain": [
              "['Mais',\n",
              " 'vale',\n",
              " 'um',\n",
              " 'asno',\n",
              " 'que',\n",
              " 'me',\n",
              " 'carregue',\n",
              " 'que',\n",
              " 'um',\n",
              " 'cavalo',\n",
              " 'que',\n",
              " 'me',\n",
              " 'derrube',\n",
              " '.']"
            ]
          },
          "metadata": {},
          "execution_count": 9
        }
      ],
      "source": [
        "[token.text for token in entrada]"
      ]
    },
    {
      "cell_type": "markdown",
      "metadata": {
        "id": "0EC2dnbRTEvp"
      },
      "source": [
        "E para eliminar totalmente a pontuação da lista,  é só restringirr  a sua criação usando __is_punct__."
      ]
    },
    {
      "cell_type": "code",
      "execution_count": null,
      "metadata": {
        "colab": {
          "base_uri": "https://localhost:8080/"
        },
        "id": "UkTxxfstTEvp",
        "outputId": "e2c92ba6-8b3b-4c0c-b022-c4444e713b59"
      },
      "outputs": [
        {
          "output_type": "execute_result",
          "data": {
            "text/plain": [
              "['Mais',\n",
              " 'vale',\n",
              " 'um',\n",
              " 'asno',\n",
              " 'que',\n",
              " 'me',\n",
              " 'carregue',\n",
              " 'que',\n",
              " 'um',\n",
              " 'cavalo',\n",
              " 'que',\n",
              " 'me',\n",
              " 'derrube']"
            ]
          },
          "metadata": {},
          "execution_count": 10
        }
      ],
      "source": [
        "[token.text for token in entrada if not token.is_punct]"
      ]
    },
    {
      "cell_type": "markdown",
      "metadata": {
        "id": "FJHmrb02TEvp"
      },
      "source": [
        "O spaCy já vem treinado para realizar etiquetagem morfossintática (PoS tagging),  o que pode ser mostrado da seguinte maneira."
      ]
    },
    {
      "cell_type": "code",
      "execution_count": null,
      "metadata": {
        "colab": {
          "base_uri": "https://localhost:8080/"
        },
        "id": "UfxFqqCbTEvq",
        "outputId": "2caa20d9-b0fe-4527-85a5-f2b7fdcb71f7"
      },
      "outputs": [
        {
          "output_type": "execute_result",
          "data": {
            "text/plain": [
              "[('Mais', 'ADV'),\n",
              " ('vale', 'VERB'),\n",
              " ('um', 'DET'),\n",
              " ('asno', 'NOUN'),\n",
              " ('que', 'PRON'),\n",
              " ('me', 'PRON'),\n",
              " ('carregue', 'VERB'),\n",
              " ('que', 'SCONJ'),\n",
              " ('um', 'DET'),\n",
              " ('cavalo', 'NOUN'),\n",
              " ('que', 'PRON'),\n",
              " ('me', 'PRON'),\n",
              " ('derrube', 'VERB'),\n",
              " ('.', 'PUNCT')]"
            ]
          },
          "metadata": {},
          "execution_count": 11
        }
      ],
      "source": [
        "[(token.text, token.pos_) for token in entrada]"
      ]
    },
    {
      "cell_type": "markdown",
      "metadata": {
        "id": "icqdYydXTEvq"
      },
      "source": [
        "A assistência do etiquetador nos permite fazer buscas bastante sofisticadas. Por exemplo podemos buscar os lemas de todos os verbos encontrados  na sentença."
      ]
    },
    {
      "cell_type": "code",
      "execution_count": null,
      "metadata": {
        "colab": {
          "base_uri": "https://localhost:8080/"
        },
        "id": "gAUS7nCCTEvr",
        "outputId": "dd9bf460-0555-44db-8b00-a435dea15dec"
      },
      "outputs": [
        {
          "output_type": "execute_result",
          "data": {
            "text/plain": [
              "['valer', 'carregar', 'derrube']"
            ]
          },
          "metadata": {},
          "execution_count": 12
        }
      ],
      "source": [
        "[token.lemma_ for token in entrada if token.pos_ == 'VERB']"
      ]
    },
    {
      "cell_type": "markdown",
      "metadata": {
        "id": "p6Mjy3wMTEvr"
      },
      "source": [
        "Os lemas de verbos conjugados nos fornecem  a sua forma infinitiva. "
      ]
    },
    {
      "cell_type": "markdown",
      "metadata": {
        "id": "V0bum0sCTEvs"
      },
      "source": [
        "### Reconhecimento de entidades nomeadas\n",
        "\n",
        "A biblioteca já vem treinada com um  mecanismo que permite o reconhecimento de \n",
        "entidades nomeadas. "
      ]
    },
    {
      "cell_type": "code",
      "execution_count": null,
      "metadata": {
        "colab": {
          "base_uri": "https://localhost:8080/"
        },
        "id": "VFmJt1pYTEvs",
        "outputId": "15b28d1d-4c46-44bb-e5ae-aa67ca806250"
      },
      "outputs": [
        {
          "output_type": "stream",
          "name": "stdout",
          "text": [
            "(CBF, Comitê de Apelações da FIFA, Neymar, Copa América, Conmebol)\n"
          ]
        },
        {
          "output_type": "execute_result",
          "data": {
            "text/plain": [
              "[(CBF, 'ORG'),\n",
              " (Comitê de Apelações da FIFA, 'ORG'),\n",
              " (Neymar, 'PER'),\n",
              " (Copa América, 'MISC'),\n",
              " (Conmebol, 'ORG')]"
            ]
          },
          "metadata": {},
          "execution_count": 13
        }
      ],
      "source": [
        "texto2 = spacyPT(\"A CBF fez um pedido de análise ao Comitê de Apelações da FIFA a fim de diminuir a pena do atacante Neymar, suspenso da Copa América pela Conmebol.\")\n",
        "print(texto2.ents)\n",
        "[(entidade,entidade.label_) for entidade in texto2.ents]"
      ]
    },
    {
      "cell_type": "markdown",
      "metadata": {
        "id": "ugIP-xrPTEvt"
      },
      "source": [
        "___________________________\n",
        "# <font color='blue'>  Questão 1 </font>\n",
        "\n",
        "Utilizando o spacy, extraia o nome dos personagens presentes no terceiro capitulo da obra \"Mémorias postumas de Brás Cubas\" de Machado de Assis"
      ]
    },
    {
      "cell_type": "code",
      "execution_count": null,
      "metadata": {
        "id": "NuRJF6YcTEvt",
        "outputId": "8f7e7b5e-1b47-42c7-8e74-34895f3ddbce",
        "scrolled": true,
        "colab": {
          "base_uri": "https://localhost:8080/",
          "height": 174
        }
      },
      "outputs": [
        {
          "output_type": "execute_result",
          "data": {
            "text/plain": [
              "'Mas, já que falei nos meus dois tios, deixem-me fazer aqui um curto esboço genealógico.        O fundador de minha família foi um certo Damião Cubas, que floresceu na primeira metade do século XVIII. Era tanoeiro de ofício, natural do Rio de Janeiro, onde teria morrido na penúria e na obscuridade, se somente exercesse a tanoaria. Mas não; fez-se lavrador, plantou, colheu, permutou o seu produto por boas e honradas patacas, até que morreu, deixando grosso cabedal a um filho, o licenciado Luís Cubas. Neste rapaz é que verdadeiramente começa a série de meus avós -- dos avós que a minha família sempre confessou -  porque o Damião Cubas era afinal de contas um tanoeiro, e talvez mau tanoeiro, ao passo que o Luís Cubas estudou em Coimbra, primou no Estado, e foi um dos amigos particulares do vice-rei conde da Cunha.        Como este apelido de Cubas lhe cheirasse excessivamente a tanoaria, alegava meu pai, bisneto do Damião, que o dito apelido fora dado a um cavaleiro, herói nas jornadas da Africa, em prêmio da façanha que praticou arrebatando trezentas cubas ao mouros. Meu pai era homem de imaginação; escapou à tanoaria nas asas de um calembour. Era um bom caráter, meu pai, varão digno e leal como poucos. Tinha, é verdade, uns fumos de pacholice; mas quem não é um pouco pachola nesse mundo? Releva notar que ele não recorreu à inventiva senão depois de experimentar a falsificação; primeiramente, entroncou-se na família daquele meu famoso homônimo, o capitão-mor Brás Cubas, que fundou a vila de São Vicente, onde morreu em 1592, e por esse motivo é que me deu o nome de Brás. Opôs-se-lhe, porém, a família do capitão-mor, e foi então que ele imaginou as trezentas cubas mouriscas.        Vivem ainda alguns membros de minha família, minha sobrinha Venância, por exemplo, o lírio-do-vale, que é a flor das damas do seu tempo; vive o pai, o Cotrim, um sujeito que... Mas não antecipemos os sucessos; acabemos de uma vez com o nosso emplasto. '"
            ],
            "application/vnd.google.colaboratory.intrinsic+json": {
              "type": "string"
            }
          },
          "metadata": {},
          "execution_count": 15
        }
      ],
      "source": [
        "cap_3_bras_cubas = \"Mas, já que falei nos meus dois tios, deixem-me fazer aqui um curto esboço genealógico.        O fundador de minha família foi um certo Damião Cubas, que floresceu na primeira metade do século XVIII. Era tanoeiro de ofício, natural do Rio de Janeiro, onde teria morrido na penúria e na obscuridade, se somente exercesse a tanoaria. Mas não; fez-se lavrador, plantou, colheu, permutou o seu produto por boas e honradas patacas, até que morreu, deixando grosso cabedal a um filho, o licenciado Luís Cubas. Neste rapaz é que verdadeiramente começa a série de meus avós -- dos avós que a minha família sempre confessou -  porque o Damião Cubas era afinal de contas um tanoeiro, e talvez mau tanoeiro, ao passo que o Luís Cubas estudou em Coimbra, primou no Estado, e foi um dos amigos particulares do vice-rei conde da Cunha.        Como este apelido de Cubas lhe cheirasse excessivamente a tanoaria, alegava meu pai, bisneto do Damião, que o dito apelido fora dado a um cavaleiro, herói nas jornadas da Africa, em prêmio da façanha que praticou arrebatando trezentas cubas ao mouros. Meu pai era homem de imaginação; escapou à tanoaria nas asas de um calembour. Era um bom caráter, meu pai, varão digno e leal como poucos. Tinha, é verdade, uns fumos de pacholice; mas quem não é um pouco pachola nesse mundo? Releva notar que ele não recorreu à inventiva senão depois de experimentar a falsificação; primeiramente, entroncou-se na família daquele meu famoso homônimo, o capitão-mor Brás Cubas, que fundou a vila de São Vicente, onde morreu em 1592, e por esse motivo é que me deu o nome de Brás. Opôs-se-lhe, porém, a família do capitão-mor, e foi então que ele imaginou as trezentas cubas mouriscas.        Vivem ainda alguns membros de minha família, minha sobrinha Venância, por exemplo, o lírio-do-vale, que é a flor das damas do seu tempo; vive o pai, o Cotrim, um sujeito que... Mas não antecipemos os sucessos; acabemos de uma vez com o nosso emplasto. \"\n",
        "cap_3_bras_cubas"
      ]
    },
    {
      "cell_type": "code",
      "execution_count": null,
      "metadata": {
        "id": "CG6FJniETEvu",
        "outputId": "1f3b6db5-f903-4380-dceb-8223b4d81974",
        "colab": {
          "base_uri": "https://localhost:8080/"
        }
      },
      "outputs": [
        {
          "output_type": "execute_result",
          "data": {
            "text/plain": [
              "['Luís Cubas', 'Brás Cubas', 'conde da Cunha', 'Damião Cubas', 'Damião']"
            ]
          },
          "metadata": {},
          "execution_count": 24
        }
      ],
      "source": [
        "#Seu código aqui\n",
        "cap_3_spacy = spacyPT(cap_3_bras_cubas)\n",
        "\n",
        "list(set([str(entidade) for entidade in cap_3_spacy.ents if entidade.label_ == 'PER']))"
      ]
    },
    {
      "cell_type": "markdown",
      "metadata": {
        "id": "ujmz8q2jTEvv"
      },
      "source": [
        "Quais destas repostas estão corretas?  Quais personagens estão faltando?"
      ]
    },
    {
      "cell_type": "markdown",
      "metadata": {
        "id": "3AxVwxhJTEvv"
      },
      "source": [
        "**<font color='red'> Sua resposta aqui </font>**\n",
        "\n"
      ]
    },
    {
      "cell_type": "markdown",
      "metadata": {
        "id": "3juZmY0jTEvx"
      },
      "source": [
        "# <font color='blue'>  Questão 2 </font>\n",
        "\n",
        "Extraia todos os pronomes deste capitulo.\n",
        "\n",
        "_____________\n",
        "**<font color='red'> Sua resposta aqui </font>**\n"
      ]
    },
    {
      "cell_type": "code",
      "execution_count": null,
      "metadata": {
        "id": "SrMsM33ZTEvw",
        "outputId": "37fea657-8663-41cd-c0a2-a2d03f582bae",
        "colab": {
          "base_uri": "https://localhost:8080/"
        }
      },
      "outputs": [
        {
          "output_type": "execute_result",
          "data": {
            "text/plain": [
              "['lhe', 'onde', 'ele', 'me', 'quem', 'que']"
            ]
          },
          "metadata": {},
          "execution_count": 28
        }
      ],
      "source": [
        "#Seu código aqui\n",
        "\n",
        "list(set([token.text for token in cap_3_spacy if token.pos_ == 'PRON']))"
      ]
    },
    {
      "cell_type": "markdown",
      "metadata": {
        "id": "4bW_x8XHTEvx"
      },
      "source": [
        "# <font color='blue'>  Questão 3 </font>\n",
        "Utilize os visualizadores para explorar o mapa de dependencias de uma frase a sua escolha deste capitulo.\n",
        "https://spacy.io/usage/visualizers\n",
        "\n",
        "Você pode acessar diretamente uma frase especifica ao utilizar o gerador \"sents\", por exemplo:\n",
        "\n",
        "```python\n",
        "frases = [frase for frase in texto.sents]\n",
        "frases[2]\n",
        "\n",
        "\n",
        "Era tanoeiro de ofício, natural do Rio de Janeiro LOC , onde teria morrido na penúria e na obscuridade, se somente exercesse a tanoaria. \n",
        "```\n",
        "\n",
        "\n",
        "_______________\n",
        "\n",
        "\n",
        "**<font color='red'> Sua resposta aqui </font>**"
      ]
    },
    {
      "cell_type": "code",
      "execution_count": null,
      "metadata": {
        "id": "mqUiCknrTEvy"
      },
      "outputs": [],
      "source": [
        "from spacy import displacy"
      ]
    },
    {
      "cell_type": "code",
      "execution_count": null,
      "metadata": {
        "id": "9AWMKGioTEvy",
        "outputId": "de5f93be-9d3f-4696-f83d-b7226aad2eba",
        "colab": {
          "base_uri": "https://localhost:8080/",
          "height": 458
        }
      },
      "outputs": [
        {
          "output_type": "display_data",
          "data": {
            "text/plain": [
              "<IPython.core.display.HTML object>"
            ],
            "text/html": [
              "<span class=\"tex2jax_ignore\"><svg xmlns=\"http://www.w3.org/2000/svg\" xmlns:xlink=\"http://www.w3.org/1999/xlink\" xml:lang=\"pt\" id=\"ca9f5e18739141c990b20a7e1ac0e3b7-0\" class=\"displacy\" width=\"3970\" height=\"417.0\" direction=\"ltr\" style=\"max-width: none; height: 417.0px; color: #000000; background: #ffffff; font-family: Arial; direction: ltr\">\n",
              "<text class=\"displacy-token\" fill=\"currentColor\" text-anchor=\"middle\" y=\"327.0\">\n",
              "    <tspan class=\"displacy-word\" fill=\"currentColor\" x=\"50\">Mas</tspan>\n",
              "    <tspan class=\"displacy-tag\" dy=\"2em\" fill=\"currentColor\" x=\"50\">CCONJ</tspan>\n",
              "</text>\n",
              "\n",
              "<text class=\"displacy-token\" fill=\"currentColor\" text-anchor=\"middle\" y=\"327.0\">\n",
              "    <tspan class=\"displacy-word\" fill=\"currentColor\" x=\"190\">não;</tspan>\n",
              "    <tspan class=\"displacy-tag\" dy=\"2em\" fill=\"currentColor\" x=\"190\">ADV</tspan>\n",
              "</text>\n",
              "\n",
              "<text class=\"displacy-token\" fill=\"currentColor\" text-anchor=\"middle\" y=\"327.0\">\n",
              "    <tspan class=\"displacy-word\" fill=\"currentColor\" x=\"330\">fez-se</tspan>\n",
              "    <tspan class=\"displacy-tag\" dy=\"2em\" fill=\"currentColor\" x=\"330\">VERB</tspan>\n",
              "</text>\n",
              "\n",
              "<text class=\"displacy-token\" fill=\"currentColor\" text-anchor=\"middle\" y=\"327.0\">\n",
              "    <tspan class=\"displacy-word\" fill=\"currentColor\" x=\"470\">lavrador,</tspan>\n",
              "    <tspan class=\"displacy-tag\" dy=\"2em\" fill=\"currentColor\" x=\"470\">NOUN</tspan>\n",
              "</text>\n",
              "\n",
              "<text class=\"displacy-token\" fill=\"currentColor\" text-anchor=\"middle\" y=\"327.0\">\n",
              "    <tspan class=\"displacy-word\" fill=\"currentColor\" x=\"610\">plantou,</tspan>\n",
              "    <tspan class=\"displacy-tag\" dy=\"2em\" fill=\"currentColor\" x=\"610\">VERB</tspan>\n",
              "</text>\n",
              "\n",
              "<text class=\"displacy-token\" fill=\"currentColor\" text-anchor=\"middle\" y=\"327.0\">\n",
              "    <tspan class=\"displacy-word\" fill=\"currentColor\" x=\"750\">colheu,</tspan>\n",
              "    <tspan class=\"displacy-tag\" dy=\"2em\" fill=\"currentColor\" x=\"750\">ADV</tspan>\n",
              "</text>\n",
              "\n",
              "<text class=\"displacy-token\" fill=\"currentColor\" text-anchor=\"middle\" y=\"327.0\">\n",
              "    <tspan class=\"displacy-word\" fill=\"currentColor\" x=\"890\">permutou</tspan>\n",
              "    <tspan class=\"displacy-tag\" dy=\"2em\" fill=\"currentColor\" x=\"890\">VERB</tspan>\n",
              "</text>\n",
              "\n",
              "<text class=\"displacy-token\" fill=\"currentColor\" text-anchor=\"middle\" y=\"327.0\">\n",
              "    <tspan class=\"displacy-word\" fill=\"currentColor\" x=\"1030\">o</tspan>\n",
              "    <tspan class=\"displacy-tag\" dy=\"2em\" fill=\"currentColor\" x=\"1030\">DET</tspan>\n",
              "</text>\n",
              "\n",
              "<text class=\"displacy-token\" fill=\"currentColor\" text-anchor=\"middle\" y=\"327.0\">\n",
              "    <tspan class=\"displacy-word\" fill=\"currentColor\" x=\"1170\">seu</tspan>\n",
              "    <tspan class=\"displacy-tag\" dy=\"2em\" fill=\"currentColor\" x=\"1170\">DET</tspan>\n",
              "</text>\n",
              "\n",
              "<text class=\"displacy-token\" fill=\"currentColor\" text-anchor=\"middle\" y=\"327.0\">\n",
              "    <tspan class=\"displacy-word\" fill=\"currentColor\" x=\"1310\">produto</tspan>\n",
              "    <tspan class=\"displacy-tag\" dy=\"2em\" fill=\"currentColor\" x=\"1310\">NOUN</tspan>\n",
              "</text>\n",
              "\n",
              "<text class=\"displacy-token\" fill=\"currentColor\" text-anchor=\"middle\" y=\"327.0\">\n",
              "    <tspan class=\"displacy-word\" fill=\"currentColor\" x=\"1450\">por</tspan>\n",
              "    <tspan class=\"displacy-tag\" dy=\"2em\" fill=\"currentColor\" x=\"1450\">ADP</tspan>\n",
              "</text>\n",
              "\n",
              "<text class=\"displacy-token\" fill=\"currentColor\" text-anchor=\"middle\" y=\"327.0\">\n",
              "    <tspan class=\"displacy-word\" fill=\"currentColor\" x=\"1590\">boas</tspan>\n",
              "    <tspan class=\"displacy-tag\" dy=\"2em\" fill=\"currentColor\" x=\"1590\">NOUN</tspan>\n",
              "</text>\n",
              "\n",
              "<text class=\"displacy-token\" fill=\"currentColor\" text-anchor=\"middle\" y=\"327.0\">\n",
              "    <tspan class=\"displacy-word\" fill=\"currentColor\" x=\"1730\">e</tspan>\n",
              "    <tspan class=\"displacy-tag\" dy=\"2em\" fill=\"currentColor\" x=\"1730\">CCONJ</tspan>\n",
              "</text>\n",
              "\n",
              "<text class=\"displacy-token\" fill=\"currentColor\" text-anchor=\"middle\" y=\"327.0\">\n",
              "    <tspan class=\"displacy-word\" fill=\"currentColor\" x=\"1870\">honradas</tspan>\n",
              "    <tspan class=\"displacy-tag\" dy=\"2em\" fill=\"currentColor\" x=\"1870\">VERB</tspan>\n",
              "</text>\n",
              "\n",
              "<text class=\"displacy-token\" fill=\"currentColor\" text-anchor=\"middle\" y=\"327.0\">\n",
              "    <tspan class=\"displacy-word\" fill=\"currentColor\" x=\"2010\">patacas,</tspan>\n",
              "    <tspan class=\"displacy-tag\" dy=\"2em\" fill=\"currentColor\" x=\"2010\">ADJ</tspan>\n",
              "</text>\n",
              "\n",
              "<text class=\"displacy-token\" fill=\"currentColor\" text-anchor=\"middle\" y=\"327.0\">\n",
              "    <tspan class=\"displacy-word\" fill=\"currentColor\" x=\"2150\">até</tspan>\n",
              "    <tspan class=\"displacy-tag\" dy=\"2em\" fill=\"currentColor\" x=\"2150\">SCONJ</tspan>\n",
              "</text>\n",
              "\n",
              "<text class=\"displacy-token\" fill=\"currentColor\" text-anchor=\"middle\" y=\"327.0\">\n",
              "    <tspan class=\"displacy-word\" fill=\"currentColor\" x=\"2290\">que</tspan>\n",
              "    <tspan class=\"displacy-tag\" dy=\"2em\" fill=\"currentColor\" x=\"2290\">PRON</tspan>\n",
              "</text>\n",
              "\n",
              "<text class=\"displacy-token\" fill=\"currentColor\" text-anchor=\"middle\" y=\"327.0\">\n",
              "    <tspan class=\"displacy-word\" fill=\"currentColor\" x=\"2430\">morreu,</tspan>\n",
              "    <tspan class=\"displacy-tag\" dy=\"2em\" fill=\"currentColor\" x=\"2430\">VERB</tspan>\n",
              "</text>\n",
              "\n",
              "<text class=\"displacy-token\" fill=\"currentColor\" text-anchor=\"middle\" y=\"327.0\">\n",
              "    <tspan class=\"displacy-word\" fill=\"currentColor\" x=\"2570\">deixando</tspan>\n",
              "    <tspan class=\"displacy-tag\" dy=\"2em\" fill=\"currentColor\" x=\"2570\">VERB</tspan>\n",
              "</text>\n",
              "\n",
              "<text class=\"displacy-token\" fill=\"currentColor\" text-anchor=\"middle\" y=\"327.0\">\n",
              "    <tspan class=\"displacy-word\" fill=\"currentColor\" x=\"2710\">grosso</tspan>\n",
              "    <tspan class=\"displacy-tag\" dy=\"2em\" fill=\"currentColor\" x=\"2710\">ADV</tspan>\n",
              "</text>\n",
              "\n",
              "<text class=\"displacy-token\" fill=\"currentColor\" text-anchor=\"middle\" y=\"327.0\">\n",
              "    <tspan class=\"displacy-word\" fill=\"currentColor\" x=\"2850\">cabedal</tspan>\n",
              "    <tspan class=\"displacy-tag\" dy=\"2em\" fill=\"currentColor\" x=\"2850\">NOUN</tspan>\n",
              "</text>\n",
              "\n",
              "<text class=\"displacy-token\" fill=\"currentColor\" text-anchor=\"middle\" y=\"327.0\">\n",
              "    <tspan class=\"displacy-word\" fill=\"currentColor\" x=\"2990\">a</tspan>\n",
              "    <tspan class=\"displacy-tag\" dy=\"2em\" fill=\"currentColor\" x=\"2990\">ADP</tspan>\n",
              "</text>\n",
              "\n",
              "<text class=\"displacy-token\" fill=\"currentColor\" text-anchor=\"middle\" y=\"327.0\">\n",
              "    <tspan class=\"displacy-word\" fill=\"currentColor\" x=\"3130\">um</tspan>\n",
              "    <tspan class=\"displacy-tag\" dy=\"2em\" fill=\"currentColor\" x=\"3130\">DET</tspan>\n",
              "</text>\n",
              "\n",
              "<text class=\"displacy-token\" fill=\"currentColor\" text-anchor=\"middle\" y=\"327.0\">\n",
              "    <tspan class=\"displacy-word\" fill=\"currentColor\" x=\"3270\">filho,</tspan>\n",
              "    <tspan class=\"displacy-tag\" dy=\"2em\" fill=\"currentColor\" x=\"3270\">NOUN</tspan>\n",
              "</text>\n",
              "\n",
              "<text class=\"displacy-token\" fill=\"currentColor\" text-anchor=\"middle\" y=\"327.0\">\n",
              "    <tspan class=\"displacy-word\" fill=\"currentColor\" x=\"3410\">o</tspan>\n",
              "    <tspan class=\"displacy-tag\" dy=\"2em\" fill=\"currentColor\" x=\"3410\">DET</tspan>\n",
              "</text>\n",
              "\n",
              "<text class=\"displacy-token\" fill=\"currentColor\" text-anchor=\"middle\" y=\"327.0\">\n",
              "    <tspan class=\"displacy-word\" fill=\"currentColor\" x=\"3550\">licenciado</tspan>\n",
              "    <tspan class=\"displacy-tag\" dy=\"2em\" fill=\"currentColor\" x=\"3550\">NOUN</tspan>\n",
              "</text>\n",
              "\n",
              "<text class=\"displacy-token\" fill=\"currentColor\" text-anchor=\"middle\" y=\"327.0\">\n",
              "    <tspan class=\"displacy-word\" fill=\"currentColor\" x=\"3690\">Luís</tspan>\n",
              "    <tspan class=\"displacy-tag\" dy=\"2em\" fill=\"currentColor\" x=\"3690\">PROPN</tspan>\n",
              "</text>\n",
              "\n",
              "<text class=\"displacy-token\" fill=\"currentColor\" text-anchor=\"middle\" y=\"327.0\">\n",
              "    <tspan class=\"displacy-word\" fill=\"currentColor\" x=\"3830\">Cubas.</tspan>\n",
              "    <tspan class=\"displacy-tag\" dy=\"2em\" fill=\"currentColor\" x=\"3830\">PROPN</tspan>\n",
              "</text>\n",
              "\n",
              "<g class=\"displacy-arrow\">\n",
              "    <path class=\"displacy-arc\" id=\"arrow-ca9f5e18739141c990b20a7e1ac0e3b7-0-0\" stroke-width=\"2px\" d=\"M70,282.0 C70,212.0 175.0,212.0 175.0,282.0\" fill=\"none\" stroke=\"currentColor\"/>\n",
              "    <text dy=\"1.25em\" style=\"font-size: 0.8em; letter-spacing: 1px\">\n",
              "        <textPath xlink:href=\"#arrow-ca9f5e18739141c990b20a7e1ac0e3b7-0-0\" class=\"displacy-label\" startOffset=\"50%\" side=\"left\" fill=\"currentColor\" text-anchor=\"middle\">cc</textPath>\n",
              "    </text>\n",
              "    <path class=\"displacy-arrowhead\" d=\"M70,284.0 L62,272.0 78,272.0\" fill=\"currentColor\"/>\n",
              "</g>\n",
              "\n",
              "<g class=\"displacy-arrow\">\n",
              "    <path class=\"displacy-arc\" id=\"arrow-ca9f5e18739141c990b20a7e1ac0e3b7-0-1\" stroke-width=\"2px\" d=\"M210,282.0 C210,212.0 315.0,212.0 315.0,282.0\" fill=\"none\" stroke=\"currentColor\"/>\n",
              "    <text dy=\"1.25em\" style=\"font-size: 0.8em; letter-spacing: 1px\">\n",
              "        <textPath xlink:href=\"#arrow-ca9f5e18739141c990b20a7e1ac0e3b7-0-1\" class=\"displacy-label\" startOffset=\"50%\" side=\"left\" fill=\"currentColor\" text-anchor=\"middle\">advmod</textPath>\n",
              "    </text>\n",
              "    <path class=\"displacy-arrowhead\" d=\"M210,284.0 L202,272.0 218,272.0\" fill=\"currentColor\"/>\n",
              "</g>\n",
              "\n",
              "<g class=\"displacy-arrow\">\n",
              "    <path class=\"displacy-arc\" id=\"arrow-ca9f5e18739141c990b20a7e1ac0e3b7-0-2\" stroke-width=\"2px\" d=\"M350,282.0 C350,72.0 885.0,72.0 885.0,282.0\" fill=\"none\" stroke=\"currentColor\"/>\n",
              "    <text dy=\"1.25em\" style=\"font-size: 0.8em; letter-spacing: 1px\">\n",
              "        <textPath xlink:href=\"#arrow-ca9f5e18739141c990b20a7e1ac0e3b7-0-2\" class=\"displacy-label\" startOffset=\"50%\" side=\"left\" fill=\"currentColor\" text-anchor=\"middle\">ccomp</textPath>\n",
              "    </text>\n",
              "    <path class=\"displacy-arrowhead\" d=\"M350,284.0 L342,272.0 358,272.0\" fill=\"currentColor\"/>\n",
              "</g>\n",
              "\n",
              "<g class=\"displacy-arrow\">\n",
              "    <path class=\"displacy-arc\" id=\"arrow-ca9f5e18739141c990b20a7e1ac0e3b7-0-3\" stroke-width=\"2px\" d=\"M350,282.0 C350,212.0 455.0,212.0 455.0,282.0\" fill=\"none\" stroke=\"currentColor\"/>\n",
              "    <text dy=\"1.25em\" style=\"font-size: 0.8em; letter-spacing: 1px\">\n",
              "        <textPath xlink:href=\"#arrow-ca9f5e18739141c990b20a7e1ac0e3b7-0-3\" class=\"displacy-label\" startOffset=\"50%\" side=\"left\" fill=\"currentColor\" text-anchor=\"middle\">xcomp</textPath>\n",
              "    </text>\n",
              "    <path class=\"displacy-arrowhead\" d=\"M455.0,284.0 L463.0,272.0 447.0,272.0\" fill=\"currentColor\"/>\n",
              "</g>\n",
              "\n",
              "<g class=\"displacy-arrow\">\n",
              "    <path class=\"displacy-arc\" id=\"arrow-ca9f5e18739141c990b20a7e1ac0e3b7-0-4\" stroke-width=\"2px\" d=\"M350,282.0 C350,142.0 600.0,142.0 600.0,282.0\" fill=\"none\" stroke=\"currentColor\"/>\n",
              "    <text dy=\"1.25em\" style=\"font-size: 0.8em; letter-spacing: 1px\">\n",
              "        <textPath xlink:href=\"#arrow-ca9f5e18739141c990b20a7e1ac0e3b7-0-4\" class=\"displacy-label\" startOffset=\"50%\" side=\"left\" fill=\"currentColor\" text-anchor=\"middle\">parataxis</textPath>\n",
              "    </text>\n",
              "    <path class=\"displacy-arrowhead\" d=\"M600.0,284.0 L608.0,272.0 592.0,272.0\" fill=\"currentColor\"/>\n",
              "</g>\n",
              "\n",
              "<g class=\"displacy-arrow\">\n",
              "    <path class=\"displacy-arc\" id=\"arrow-ca9f5e18739141c990b20a7e1ac0e3b7-0-5\" stroke-width=\"2px\" d=\"M630,282.0 C630,212.0 735.0,212.0 735.0,282.0\" fill=\"none\" stroke=\"currentColor\"/>\n",
              "    <text dy=\"1.25em\" style=\"font-size: 0.8em; letter-spacing: 1px\">\n",
              "        <textPath xlink:href=\"#arrow-ca9f5e18739141c990b20a7e1ac0e3b7-0-5\" class=\"displacy-label\" startOffset=\"50%\" side=\"left\" fill=\"currentColor\" text-anchor=\"middle\">advmod</textPath>\n",
              "    </text>\n",
              "    <path class=\"displacy-arrowhead\" d=\"M735.0,284.0 L743.0,272.0 727.0,272.0\" fill=\"currentColor\"/>\n",
              "</g>\n",
              "\n",
              "<g class=\"displacy-arrow\">\n",
              "    <path class=\"displacy-arc\" id=\"arrow-ca9f5e18739141c990b20a7e1ac0e3b7-0-6\" stroke-width=\"2px\" d=\"M1050,282.0 C1050,142.0 1300.0,142.0 1300.0,282.0\" fill=\"none\" stroke=\"currentColor\"/>\n",
              "    <text dy=\"1.25em\" style=\"font-size: 0.8em; letter-spacing: 1px\">\n",
              "        <textPath xlink:href=\"#arrow-ca9f5e18739141c990b20a7e1ac0e3b7-0-6\" class=\"displacy-label\" startOffset=\"50%\" side=\"left\" fill=\"currentColor\" text-anchor=\"middle\">det</textPath>\n",
              "    </text>\n",
              "    <path class=\"displacy-arrowhead\" d=\"M1050,284.0 L1042,272.0 1058,272.0\" fill=\"currentColor\"/>\n",
              "</g>\n",
              "\n",
              "<g class=\"displacy-arrow\">\n",
              "    <path class=\"displacy-arc\" id=\"arrow-ca9f5e18739141c990b20a7e1ac0e3b7-0-7\" stroke-width=\"2px\" d=\"M1190,282.0 C1190,212.0 1295.0,212.0 1295.0,282.0\" fill=\"none\" stroke=\"currentColor\"/>\n",
              "    <text dy=\"1.25em\" style=\"font-size: 0.8em; letter-spacing: 1px\">\n",
              "        <textPath xlink:href=\"#arrow-ca9f5e18739141c990b20a7e1ac0e3b7-0-7\" class=\"displacy-label\" startOffset=\"50%\" side=\"left\" fill=\"currentColor\" text-anchor=\"middle\">det</textPath>\n",
              "    </text>\n",
              "    <path class=\"displacy-arrowhead\" d=\"M1190,284.0 L1182,272.0 1198,272.0\" fill=\"currentColor\"/>\n",
              "</g>\n",
              "\n",
              "<g class=\"displacy-arrow\">\n",
              "    <path class=\"displacy-arc\" id=\"arrow-ca9f5e18739141c990b20a7e1ac0e3b7-0-8\" stroke-width=\"2px\" d=\"M910,282.0 C910,72.0 1305.0,72.0 1305.0,282.0\" fill=\"none\" stroke=\"currentColor\"/>\n",
              "    <text dy=\"1.25em\" style=\"font-size: 0.8em; letter-spacing: 1px\">\n",
              "        <textPath xlink:href=\"#arrow-ca9f5e18739141c990b20a7e1ac0e3b7-0-8\" class=\"displacy-label\" startOffset=\"50%\" side=\"left\" fill=\"currentColor\" text-anchor=\"middle\">obj</textPath>\n",
              "    </text>\n",
              "    <path class=\"displacy-arrowhead\" d=\"M1305.0,284.0 L1313.0,272.0 1297.0,272.0\" fill=\"currentColor\"/>\n",
              "</g>\n",
              "\n",
              "<g class=\"displacy-arrow\">\n",
              "    <path class=\"displacy-arc\" id=\"arrow-ca9f5e18739141c990b20a7e1ac0e3b7-0-9\" stroke-width=\"2px\" d=\"M1470,282.0 C1470,212.0 1575.0,212.0 1575.0,282.0\" fill=\"none\" stroke=\"currentColor\"/>\n",
              "    <text dy=\"1.25em\" style=\"font-size: 0.8em; letter-spacing: 1px\">\n",
              "        <textPath xlink:href=\"#arrow-ca9f5e18739141c990b20a7e1ac0e3b7-0-9\" class=\"displacy-label\" startOffset=\"50%\" side=\"left\" fill=\"currentColor\" text-anchor=\"middle\">case</textPath>\n",
              "    </text>\n",
              "    <path class=\"displacy-arrowhead\" d=\"M1470,284.0 L1462,272.0 1478,272.0\" fill=\"currentColor\"/>\n",
              "</g>\n",
              "\n",
              "<g class=\"displacy-arrow\">\n",
              "    <path class=\"displacy-arc\" id=\"arrow-ca9f5e18739141c990b20a7e1ac0e3b7-0-10\" stroke-width=\"2px\" d=\"M1330,282.0 C1330,142.0 1580.0,142.0 1580.0,282.0\" fill=\"none\" stroke=\"currentColor\"/>\n",
              "    <text dy=\"1.25em\" style=\"font-size: 0.8em; letter-spacing: 1px\">\n",
              "        <textPath xlink:href=\"#arrow-ca9f5e18739141c990b20a7e1ac0e3b7-0-10\" class=\"displacy-label\" startOffset=\"50%\" side=\"left\" fill=\"currentColor\" text-anchor=\"middle\">nmod</textPath>\n",
              "    </text>\n",
              "    <path class=\"displacy-arrowhead\" d=\"M1580.0,284.0 L1588.0,272.0 1572.0,272.0\" fill=\"currentColor\"/>\n",
              "</g>\n",
              "\n",
              "<g class=\"displacy-arrow\">\n",
              "    <path class=\"displacy-arc\" id=\"arrow-ca9f5e18739141c990b20a7e1ac0e3b7-0-11\" stroke-width=\"2px\" d=\"M1750,282.0 C1750,212.0 1855.0,212.0 1855.0,282.0\" fill=\"none\" stroke=\"currentColor\"/>\n",
              "    <text dy=\"1.25em\" style=\"font-size: 0.8em; letter-spacing: 1px\">\n",
              "        <textPath xlink:href=\"#arrow-ca9f5e18739141c990b20a7e1ac0e3b7-0-11\" class=\"displacy-label\" startOffset=\"50%\" side=\"left\" fill=\"currentColor\" text-anchor=\"middle\">cc</textPath>\n",
              "    </text>\n",
              "    <path class=\"displacy-arrowhead\" d=\"M1750,284.0 L1742,272.0 1758,272.0\" fill=\"currentColor\"/>\n",
              "</g>\n",
              "\n",
              "<g class=\"displacy-arrow\">\n",
              "    <path class=\"displacy-arc\" id=\"arrow-ca9f5e18739141c990b20a7e1ac0e3b7-0-12\" stroke-width=\"2px\" d=\"M1610,282.0 C1610,142.0 1860.0,142.0 1860.0,282.0\" fill=\"none\" stroke=\"currentColor\"/>\n",
              "    <text dy=\"1.25em\" style=\"font-size: 0.8em; letter-spacing: 1px\">\n",
              "        <textPath xlink:href=\"#arrow-ca9f5e18739141c990b20a7e1ac0e3b7-0-12\" class=\"displacy-label\" startOffset=\"50%\" side=\"left\" fill=\"currentColor\" text-anchor=\"middle\">conj</textPath>\n",
              "    </text>\n",
              "    <path class=\"displacy-arrowhead\" d=\"M1860.0,284.0 L1868.0,272.0 1852.0,272.0\" fill=\"currentColor\"/>\n",
              "</g>\n",
              "\n",
              "<g class=\"displacy-arrow\">\n",
              "    <path class=\"displacy-arc\" id=\"arrow-ca9f5e18739141c990b20a7e1ac0e3b7-0-13\" stroke-width=\"2px\" d=\"M1610,282.0 C1610,72.0 2005.0,72.0 2005.0,282.0\" fill=\"none\" stroke=\"currentColor\"/>\n",
              "    <text dy=\"1.25em\" style=\"font-size: 0.8em; letter-spacing: 1px\">\n",
              "        <textPath xlink:href=\"#arrow-ca9f5e18739141c990b20a7e1ac0e3b7-0-13\" class=\"displacy-label\" startOffset=\"50%\" side=\"left\" fill=\"currentColor\" text-anchor=\"middle\">amod</textPath>\n",
              "    </text>\n",
              "    <path class=\"displacy-arrowhead\" d=\"M2005.0,284.0 L2013.0,272.0 1997.0,272.0\" fill=\"currentColor\"/>\n",
              "</g>\n",
              "\n",
              "<g class=\"displacy-arrow\">\n",
              "    <path class=\"displacy-arc\" id=\"arrow-ca9f5e18739141c990b20a7e1ac0e3b7-0-14\" stroke-width=\"2px\" d=\"M2170,282.0 C2170,142.0 2420.0,142.0 2420.0,282.0\" fill=\"none\" stroke=\"currentColor\"/>\n",
              "    <text dy=\"1.25em\" style=\"font-size: 0.8em; letter-spacing: 1px\">\n",
              "        <textPath xlink:href=\"#arrow-ca9f5e18739141c990b20a7e1ac0e3b7-0-14\" class=\"displacy-label\" startOffset=\"50%\" side=\"left\" fill=\"currentColor\" text-anchor=\"middle\">mark</textPath>\n",
              "    </text>\n",
              "    <path class=\"displacy-arrowhead\" d=\"M2170,284.0 L2162,272.0 2178,272.0\" fill=\"currentColor\"/>\n",
              "</g>\n",
              "\n",
              "<g class=\"displacy-arrow\">\n",
              "    <path class=\"displacy-arc\" id=\"arrow-ca9f5e18739141c990b20a7e1ac0e3b7-0-15\" stroke-width=\"2px\" d=\"M2310,282.0 C2310,212.0 2415.0,212.0 2415.0,282.0\" fill=\"none\" stroke=\"currentColor\"/>\n",
              "    <text dy=\"1.25em\" style=\"font-size: 0.8em; letter-spacing: 1px\">\n",
              "        <textPath xlink:href=\"#arrow-ca9f5e18739141c990b20a7e1ac0e3b7-0-15\" class=\"displacy-label\" startOffset=\"50%\" side=\"left\" fill=\"currentColor\" text-anchor=\"middle\">nsubj</textPath>\n",
              "    </text>\n",
              "    <path class=\"displacy-arrowhead\" d=\"M2310,284.0 L2302,272.0 2318,272.0\" fill=\"currentColor\"/>\n",
              "</g>\n",
              "\n",
              "<g class=\"displacy-arrow\">\n",
              "    <path class=\"displacy-arc\" id=\"arrow-ca9f5e18739141c990b20a7e1ac0e3b7-0-16\" stroke-width=\"2px\" d=\"M910,282.0 C910,2.0 2430.0,2.0 2430.0,282.0\" fill=\"none\" stroke=\"currentColor\"/>\n",
              "    <text dy=\"1.25em\" style=\"font-size: 0.8em; letter-spacing: 1px\">\n",
              "        <textPath xlink:href=\"#arrow-ca9f5e18739141c990b20a7e1ac0e3b7-0-16\" class=\"displacy-label\" startOffset=\"50%\" side=\"left\" fill=\"currentColor\" text-anchor=\"middle\">advcl</textPath>\n",
              "    </text>\n",
              "    <path class=\"displacy-arrowhead\" d=\"M2430.0,284.0 L2438.0,272.0 2422.0,272.0\" fill=\"currentColor\"/>\n",
              "</g>\n",
              "\n",
              "<g class=\"displacy-arrow\">\n",
              "    <path class=\"displacy-arc\" id=\"arrow-ca9f5e18739141c990b20a7e1ac0e3b7-0-17\" stroke-width=\"2px\" d=\"M2450,282.0 C2450,212.0 2555.0,212.0 2555.0,282.0\" fill=\"none\" stroke=\"currentColor\"/>\n",
              "    <text dy=\"1.25em\" style=\"font-size: 0.8em; letter-spacing: 1px\">\n",
              "        <textPath xlink:href=\"#arrow-ca9f5e18739141c990b20a7e1ac0e3b7-0-17\" class=\"displacy-label\" startOffset=\"50%\" side=\"left\" fill=\"currentColor\" text-anchor=\"middle\">advcl</textPath>\n",
              "    </text>\n",
              "    <path class=\"displacy-arrowhead\" d=\"M2555.0,284.0 L2563.0,272.0 2547.0,272.0\" fill=\"currentColor\"/>\n",
              "</g>\n",
              "\n",
              "<g class=\"displacy-arrow\">\n",
              "    <path class=\"displacy-arc\" id=\"arrow-ca9f5e18739141c990b20a7e1ac0e3b7-0-18\" stroke-width=\"2px\" d=\"M2590,282.0 C2590,212.0 2695.0,212.0 2695.0,282.0\" fill=\"none\" stroke=\"currentColor\"/>\n",
              "    <text dy=\"1.25em\" style=\"font-size: 0.8em; letter-spacing: 1px\">\n",
              "        <textPath xlink:href=\"#arrow-ca9f5e18739141c990b20a7e1ac0e3b7-0-18\" class=\"displacy-label\" startOffset=\"50%\" side=\"left\" fill=\"currentColor\" text-anchor=\"middle\">advmod</textPath>\n",
              "    </text>\n",
              "    <path class=\"displacy-arrowhead\" d=\"M2695.0,284.0 L2703.0,272.0 2687.0,272.0\" fill=\"currentColor\"/>\n",
              "</g>\n",
              "\n",
              "<g class=\"displacy-arrow\">\n",
              "    <path class=\"displacy-arc\" id=\"arrow-ca9f5e18739141c990b20a7e1ac0e3b7-0-19\" stroke-width=\"2px\" d=\"M2590,282.0 C2590,142.0 2840.0,142.0 2840.0,282.0\" fill=\"none\" stroke=\"currentColor\"/>\n",
              "    <text dy=\"1.25em\" style=\"font-size: 0.8em; letter-spacing: 1px\">\n",
              "        <textPath xlink:href=\"#arrow-ca9f5e18739141c990b20a7e1ac0e3b7-0-19\" class=\"displacy-label\" startOffset=\"50%\" side=\"left\" fill=\"currentColor\" text-anchor=\"middle\">obj</textPath>\n",
              "    </text>\n",
              "    <path class=\"displacy-arrowhead\" d=\"M2840.0,284.0 L2848.0,272.0 2832.0,272.0\" fill=\"currentColor\"/>\n",
              "</g>\n",
              "\n",
              "<g class=\"displacy-arrow\">\n",
              "    <path class=\"displacy-arc\" id=\"arrow-ca9f5e18739141c990b20a7e1ac0e3b7-0-20\" stroke-width=\"2px\" d=\"M3010,282.0 C3010,142.0 3260.0,142.0 3260.0,282.0\" fill=\"none\" stroke=\"currentColor\"/>\n",
              "    <text dy=\"1.25em\" style=\"font-size: 0.8em; letter-spacing: 1px\">\n",
              "        <textPath xlink:href=\"#arrow-ca9f5e18739141c990b20a7e1ac0e3b7-0-20\" class=\"displacy-label\" startOffset=\"50%\" side=\"left\" fill=\"currentColor\" text-anchor=\"middle\">case</textPath>\n",
              "    </text>\n",
              "    <path class=\"displacy-arrowhead\" d=\"M3010,284.0 L3002,272.0 3018,272.0\" fill=\"currentColor\"/>\n",
              "</g>\n",
              "\n",
              "<g class=\"displacy-arrow\">\n",
              "    <path class=\"displacy-arc\" id=\"arrow-ca9f5e18739141c990b20a7e1ac0e3b7-0-21\" stroke-width=\"2px\" d=\"M3150,282.0 C3150,212.0 3255.0,212.0 3255.0,282.0\" fill=\"none\" stroke=\"currentColor\"/>\n",
              "    <text dy=\"1.25em\" style=\"font-size: 0.8em; letter-spacing: 1px\">\n",
              "        <textPath xlink:href=\"#arrow-ca9f5e18739141c990b20a7e1ac0e3b7-0-21\" class=\"displacy-label\" startOffset=\"50%\" side=\"left\" fill=\"currentColor\" text-anchor=\"middle\">det</textPath>\n",
              "    </text>\n",
              "    <path class=\"displacy-arrowhead\" d=\"M3150,284.0 L3142,272.0 3158,272.0\" fill=\"currentColor\"/>\n",
              "</g>\n",
              "\n",
              "<g class=\"displacy-arrow\">\n",
              "    <path class=\"displacy-arc\" id=\"arrow-ca9f5e18739141c990b20a7e1ac0e3b7-0-22\" stroke-width=\"2px\" d=\"M2870,282.0 C2870,72.0 3265.0,72.0 3265.0,282.0\" fill=\"none\" stroke=\"currentColor\"/>\n",
              "    <text dy=\"1.25em\" style=\"font-size: 0.8em; letter-spacing: 1px\">\n",
              "        <textPath xlink:href=\"#arrow-ca9f5e18739141c990b20a7e1ac0e3b7-0-22\" class=\"displacy-label\" startOffset=\"50%\" side=\"left\" fill=\"currentColor\" text-anchor=\"middle\">obl</textPath>\n",
              "    </text>\n",
              "    <path class=\"displacy-arrowhead\" d=\"M3265.0,284.0 L3273.0,272.0 3257.0,272.0\" fill=\"currentColor\"/>\n",
              "</g>\n",
              "\n",
              "<g class=\"displacy-arrow\">\n",
              "    <path class=\"displacy-arc\" id=\"arrow-ca9f5e18739141c990b20a7e1ac0e3b7-0-23\" stroke-width=\"2px\" d=\"M3430,282.0 C3430,212.0 3535.0,212.0 3535.0,282.0\" fill=\"none\" stroke=\"currentColor\"/>\n",
              "    <text dy=\"1.25em\" style=\"font-size: 0.8em; letter-spacing: 1px\">\n",
              "        <textPath xlink:href=\"#arrow-ca9f5e18739141c990b20a7e1ac0e3b7-0-23\" class=\"displacy-label\" startOffset=\"50%\" side=\"left\" fill=\"currentColor\" text-anchor=\"middle\">det</textPath>\n",
              "    </text>\n",
              "    <path class=\"displacy-arrowhead\" d=\"M3430,284.0 L3422,272.0 3438,272.0\" fill=\"currentColor\"/>\n",
              "</g>\n",
              "\n",
              "<g class=\"displacy-arrow\">\n",
              "    <path class=\"displacy-arc\" id=\"arrow-ca9f5e18739141c990b20a7e1ac0e3b7-0-24\" stroke-width=\"2px\" d=\"M2450,282.0 C2450,2.0 3550.0,2.0 3550.0,282.0\" fill=\"none\" stroke=\"currentColor\"/>\n",
              "    <text dy=\"1.25em\" style=\"font-size: 0.8em; letter-spacing: 1px\">\n",
              "        <textPath xlink:href=\"#arrow-ca9f5e18739141c990b20a7e1ac0e3b7-0-24\" class=\"displacy-label\" startOffset=\"50%\" side=\"left\" fill=\"currentColor\" text-anchor=\"middle\">nsubj</textPath>\n",
              "    </text>\n",
              "    <path class=\"displacy-arrowhead\" d=\"M3550.0,284.0 L3558.0,272.0 3542.0,272.0\" fill=\"currentColor\"/>\n",
              "</g>\n",
              "\n",
              "<g class=\"displacy-arrow\">\n",
              "    <path class=\"displacy-arc\" id=\"arrow-ca9f5e18739141c990b20a7e1ac0e3b7-0-25\" stroke-width=\"2px\" d=\"M3570,282.0 C3570,212.0 3675.0,212.0 3675.0,282.0\" fill=\"none\" stroke=\"currentColor\"/>\n",
              "    <text dy=\"1.25em\" style=\"font-size: 0.8em; letter-spacing: 1px\">\n",
              "        <textPath xlink:href=\"#arrow-ca9f5e18739141c990b20a7e1ac0e3b7-0-25\" class=\"displacy-label\" startOffset=\"50%\" side=\"left\" fill=\"currentColor\" text-anchor=\"middle\">appos</textPath>\n",
              "    </text>\n",
              "    <path class=\"displacy-arrowhead\" d=\"M3675.0,284.0 L3683.0,272.0 3667.0,272.0\" fill=\"currentColor\"/>\n",
              "</g>\n",
              "\n",
              "<g class=\"displacy-arrow\">\n",
              "    <path class=\"displacy-arc\" id=\"arrow-ca9f5e18739141c990b20a7e1ac0e3b7-0-26\" stroke-width=\"2px\" d=\"M3710,282.0 C3710,212.0 3815.0,212.0 3815.0,282.0\" fill=\"none\" stroke=\"currentColor\"/>\n",
              "    <text dy=\"1.25em\" style=\"font-size: 0.8em; letter-spacing: 1px\">\n",
              "        <textPath xlink:href=\"#arrow-ca9f5e18739141c990b20a7e1ac0e3b7-0-26\" class=\"displacy-label\" startOffset=\"50%\" side=\"left\" fill=\"currentColor\" text-anchor=\"middle\">flat:name</textPath>\n",
              "    </text>\n",
              "    <path class=\"displacy-arrowhead\" d=\"M3815.0,284.0 L3823.0,272.0 3807.0,272.0\" fill=\"currentColor\"/>\n",
              "</g>\n",
              "</svg></span>"
            ]
          },
          "metadata": {}
        }
      ],
      "source": [
        "#Seu código aqui\n",
        "frases = [frase for frase in cap_3_spacy.sents]\n",
        "\n",
        "frase = frases[3]\n",
        "\n",
        "displacy.render(frase, style='dep', jupyter=True, options={'distance': 140})"
      ]
    },
    {
      "cell_type": "markdown",
      "metadata": {
        "id": "mmCGp6yNTEvz"
      },
      "source": [
        "# Fontes \n",
        "Tanto o capitulo utilizado nesta aula quanto a obra completa fazem parte do dominio publico e podem ser encontrados em http://www.dominiopublico.gov.br/download/texto/bv000215.pdf"
      ]
    }
  ],
  "metadata": {
    "colab": {
      "provenance": [],
      "include_colab_link": true
    },
    "kernelspec": {
      "display_name": ".venv_tutorial",
      "language": "python",
      "name": ".venv_tutorial"
    },
    "language_info": {
      "codemirror_mode": {
        "name": "ipython",
        "version": 3
      },
      "file_extension": ".py",
      "mimetype": "text/x-python",
      "name": "python",
      "nbconvert_exporter": "python",
      "pygments_lexer": "ipython3",
      "version": "3.8.5"
    }
  },
  "nbformat": 4,
  "nbformat_minor": 0
}